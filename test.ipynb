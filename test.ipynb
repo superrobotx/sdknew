{
 "cells": [
  {
   "cell_type": "code",
   "execution_count": 1,
   "metadata": {},
   "outputs": [
    {
     "ename": "FileNotFoundError",
     "evalue": "[Errno 2] No such file or directory: '/media/haha/data/sdk/config.yaml'",
     "output_type": "error",
     "traceback": [
      "\u001b[0;31m---------------------------------------------------------------------------\u001b[0m",
      "\u001b[0;31mFileNotFoundError\u001b[0m                         Traceback (most recent call last)",
      "Cell \u001b[0;32mIn[1], line 1\u001b[0m\n\u001b[0;32m----> 1\u001b[0m \u001b[38;5;28;01mimport\u001b[39;00m \u001b[38;5;21;01mbase\u001b[39;00m\u001b[38;5;21;01m.\u001b[39;00m\u001b[38;5;21;01mmedia\u001b[39;00m\n\u001b[1;32m      2\u001b[0m \u001b[38;5;28;01mimport\u001b[39;00m \u001b[38;5;21;01mimportlib\u001b[39;00m\n\u001b[1;32m      3\u001b[0m importlib\u001b[38;5;241m.\u001b[39mreload(base\u001b[38;5;241m.\u001b[39mmedia)\n",
      "File \u001b[0;32m/media/haha/data/sdk/base/__init__.py:1\u001b[0m\n\u001b[0;32m----> 1\u001b[0m \u001b[38;5;28;01mfrom\u001b[39;00m \u001b[38;5;21;01m.\u001b[39;00m\u001b[38;5;21;01mmedia\u001b[39;00m \u001b[38;5;28;01mimport\u001b[39;00m \u001b[38;5;241m*\u001b[39m\n",
      "File \u001b[0;32m/media/haha/data/sdk/base/media.py:12\u001b[0m\n\u001b[1;32m      9\u001b[0m \u001b[38;5;28;01mimport\u001b[39;00m \u001b[38;5;21;01mlibrosa\u001b[39;00m\u001b[38;5;241m,\u001b[39m \u001b[38;5;21;01msignal\u001b[39;00m\u001b[38;5;241m,\u001b[39m \u001b[38;5;21;01mcv2\u001b[39;00m\n\u001b[1;32m     10\u001b[0m \u001b[38;5;28;01mfrom\u001b[39;00m \u001b[38;5;21;01mbs4\u001b[39;00m \u001b[38;5;28;01mimport\u001b[39;00m BeautifulSoup\n\u001b[0;32m---> 12\u001b[0m \u001b[38;5;28;01mfrom\u001b[39;00m \u001b[38;5;21;01m.\u001b[39;00m\u001b[38;5;21;01mutils\u001b[39;00m \u001b[38;5;28;01mimport\u001b[39;00m \u001b[38;5;241m*\u001b[39m\n\u001b[1;32m     14\u001b[0m \u001b[38;5;28;01mclass\u001b[39;00m \u001b[38;5;21;01mImage\u001b[39;00m:\n\u001b[1;32m     15\u001b[0m \u001b[38;5;250m  \u001b[39m\u001b[38;5;124;03m'''\u001b[39;00m\n\u001b[1;32m     16\u001b[0m \u001b[38;5;124;03m  image wrapper\u001b[39;00m\n\u001b[1;32m     17\u001b[0m \u001b[38;5;124;03m  '''\u001b[39;00m\n",
      "File \u001b[0;32m/media/haha/data/sdk/base/utils.py:99\u001b[0m\n\u001b[1;32m     96\u001b[0m     \u001b[38;5;28;01mreturn\u001b[39;00m wrapper\n\u001b[1;32m     98\u001b[0m config_file \u001b[38;5;241m=\u001b[39m \u001b[38;5;124m'\u001b[39m\u001b[38;5;124m./config.yaml\u001b[39m\u001b[38;5;124m'\u001b[39m\n\u001b[0;32m---> 99\u001b[0m config \u001b[38;5;241m=\u001b[39m Dict(OmegaConf\u001b[38;5;241m.\u001b[39mto_container(OmegaConf\u001b[38;5;241m.\u001b[39mload(config_file)))\n\u001b[1;32m    100\u001b[0m redis_conf \u001b[38;5;241m=\u001b[39m config\u001b[38;5;241m.\u001b[39mnetwork\u001b[38;5;241m.\u001b[39mredis\n\u001b[1;32m    102\u001b[0m \u001b[38;5;66;03m#db = Database(decode_responses=True)\u001b[39;00m\n\u001b[1;32m    103\u001b[0m \u001b[38;5;66;03m#r = redis.Redis(decode_responses=True)\u001b[39;00m\n",
      "File \u001b[0;32m~/anaconda3/envs/chat/lib/python3.11/site-packages/omegaconf/omegaconf.py:187\u001b[0m, in \u001b[0;36mOmegaConf.load\u001b[0;34m(file_)\u001b[0m\n\u001b[1;32m    184\u001b[0m \u001b[38;5;28;01mfrom\u001b[39;00m \u001b[38;5;21;01m.\u001b[39;00m\u001b[38;5;21;01m_utils\u001b[39;00m \u001b[38;5;28;01mimport\u001b[39;00m get_yaml_loader\n\u001b[1;32m    186\u001b[0m \u001b[38;5;28;01mif\u001b[39;00m \u001b[38;5;28misinstance\u001b[39m(file_, (\u001b[38;5;28mstr\u001b[39m, pathlib\u001b[38;5;241m.\u001b[39mPath)):\n\u001b[0;32m--> 187\u001b[0m     \u001b[38;5;28;01mwith\u001b[39;00m io\u001b[38;5;241m.\u001b[39mopen(os\u001b[38;5;241m.\u001b[39mpath\u001b[38;5;241m.\u001b[39mabspath(file_), \u001b[38;5;124m\"\u001b[39m\u001b[38;5;124mr\u001b[39m\u001b[38;5;124m\"\u001b[39m, encoding\u001b[38;5;241m=\u001b[39m\u001b[38;5;124m\"\u001b[39m\u001b[38;5;124mutf-8\u001b[39m\u001b[38;5;124m\"\u001b[39m) \u001b[38;5;28;01mas\u001b[39;00m f:\n\u001b[1;32m    188\u001b[0m         obj \u001b[38;5;241m=\u001b[39m yaml\u001b[38;5;241m.\u001b[39mload(f, Loader\u001b[38;5;241m=\u001b[39mget_yaml_loader())\n\u001b[1;32m    189\u001b[0m \u001b[38;5;28;01melif\u001b[39;00m \u001b[38;5;28mgetattr\u001b[39m(file_, \u001b[38;5;124m\"\u001b[39m\u001b[38;5;124mread\u001b[39m\u001b[38;5;124m\"\u001b[39m, \u001b[38;5;28;01mNone\u001b[39;00m):\n",
      "\u001b[0;31mFileNotFoundError\u001b[0m: [Errno 2] No such file or directory: '/media/haha/data/sdk/config.yaml'"
     ]
    }
   ],
   "source": [
    "import base.media\n",
    "import importlib\n",
    "importlib.reload(base.media)\n",
    "from base.media import *\n",
    "\n",
    "v = Video('/home/haha/Downloads/来自分享/鬼灭之刃(1)/05.鬼灭之刃 柱训练篇/[织梦字幕组][1080P][简日双语]/[Yumezukuri] Kimetsu no Yaiba S05 [04] [HEVC-10bit 1080P] [CHS＆JPN].mp4')\n",
    "\n",
    "v.next_video_frame()"
   ]
  },
  {
   "cell_type": "code",
   "execution_count": null,
   "metadata": {},
   "outputs": [],
   "source": [
    "from omegaconf import OmegaConf"
   ]
  },
  {
   "cell_type": "code",
   "execution_count": 3,
   "metadata": {},
   "outputs": [
    {
     "name": "stdout",
     "output_type": "stream",
     "text": [
      "Hello, Redis!\n"
     ]
    }
   ],
   "source": [
    "import redis\n",
    "\n",
    "# Connect to Redis\n",
    "r = redis.Redis(host='101.43.17.243', port=6379, db=0, password='YourRedisPassword')\n",
    "\n",
    "\n",
    "# Set a key-value pair\n",
    "r.set('mykey', 'Hello, Redis!')\n",
    "\n",
    "# Get the value for a key\n",
    "value = r.get('mykey')\n",
    "print(value.decode())  # Output: Hello, Redis!"
   ]
  },
  {
   "cell_type": "code",
   "execution_count": 1,
   "metadata": {},
   "outputs": [
    {
     "name": "stdout",
     "output_type": "stream",
     "text": [
      "Local IP address: 192.168.43.200\n"
     ]
    }
   ],
   "source": [
    "import socket\n",
    "\n",
    "def get_local_ip():\n",
    "    # Create a socket object\n",
    "    sock = socket.socket(socket.AF_INET, socket.SOCK_DGRAM)\n",
    "\n",
    "    try:\n",
    "        # Connect to a remote address that is unlikely to exist\n",
    "        sock.connect(('10.255.255.255', 1))\n",
    "        # Get the local IP address\n",
    "        ip_address = sock.getsockname()[0]\n",
    "    except Exception:\n",
    "        # If the above method fails, fallback to getting the hostname\n",
    "        ip_address = socket.gethostbyname(socket.gethostname())\n",
    "    finally:\n",
    "        # Close the socket\n",
    "        sock.close()\n",
    "\n",
    "    return ip_address\n",
    "\n",
    "# Call the function to retrieve the local IP address\n",
    "local_ip = get_local_ip()\n",
    "print(\"Local IP address:\", local_ip)"
   ]
  }
 ],
 "metadata": {
  "kernelspec": {
   "display_name": "chat",
   "language": "python",
   "name": "python3"
  },
  "language_info": {
   "codemirror_mode": {
    "name": "ipython",
    "version": 3
   },
   "file_extension": ".py",
   "mimetype": "text/x-python",
   "name": "python",
   "nbconvert_exporter": "python",
   "pygments_lexer": "ipython3",
   "version": "3.11.5"
  }
 },
 "nbformat": 4,
 "nbformat_minor": 2
}
