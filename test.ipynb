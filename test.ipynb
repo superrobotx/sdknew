{
 "cells": [
  {
   "cell_type": "code",
   "execution_count": null,
   "metadata": {},
   "outputs": [],
   "source": [
    "import time \n",
    "t = time.time()\n",
    "import base.media\n",
    "print(\"Time to import base.media: \", time.time()-t)"
   ]
  },
  {
   "cell_type": "code",
   "execution_count": null,
   "metadata": {},
   "outputs": [],
   "source": [
    "from omegaconf import OmegaConf"
   ]
  },
  {
   "cell_type": "code",
   "execution_count": 3,
   "metadata": {},
   "outputs": [
    {
     "name": "stdout",
     "output_type": "stream",
     "text": [
      "Hello, Redis!\n"
     ]
    }
   ],
   "source": [
    "import redis\n",
    "\n",
    "# Connect to Redis\n",
    "r = redis.Redis(host='101.43.17.243', port=6379, db=0, password='YourRedisPassword')\n",
    "\n",
    "\n",
    "# Set a key-value pair\n",
    "r.set('mykey', 'Hello, Redis!')\n",
    "\n",
    "# Get the value for a key\n",
    "value = r.get('mykey')\n",
    "print(value.decode())  # Output: Hello, Redis!"
   ]
  },
  {
   "cell_type": "code",
   "execution_count": 1,
   "metadata": {},
   "outputs": [
    {
     "name": "stdout",
     "output_type": "stream",
     "text": [
      "Local IP address: 192.168.43.200\n"
     ]
    }
   ],
   "source": [
    "import socket\n",
    "\n",
    "def get_local_ip():\n",
    "    # Create a socket object\n",
    "    sock = socket.socket(socket.AF_INET, socket.SOCK_DGRAM)\n",
    "\n",
    "    try:\n",
    "        # Connect to a remote address that is unlikely to exist\n",
    "        sock.connect(('10.255.255.255', 1))\n",
    "        # Get the local IP address\n",
    "        ip_address = sock.getsockname()[0]\n",
    "    except Exception:\n",
    "        # If the above method fails, fallback to getting the hostname\n",
    "        ip_address = socket.gethostbyname(socket.gethostname())\n",
    "    finally:\n",
    "        # Close the socket\n",
    "        sock.close()\n",
    "\n",
    "    return ip_address\n",
    "\n",
    "# Call the function to retrieve the local IP address\n",
    "local_ip = get_local_ip()\n",
    "print(\"Local IP address:\", local_ip)"
   ]
  }
 ],
 "metadata": {
  "kernelspec": {
   "display_name": "chat",
   "language": "python",
   "name": "python3"
  },
  "language_info": {
   "codemirror_mode": {
    "name": "ipython",
    "version": 3
   },
   "file_extension": ".py",
   "mimetype": "text/x-python",
   "name": "python",
   "nbconvert_exporter": "python",
   "pygments_lexer": "ipython3",
   "version": "3.11.5"
  }
 },
 "nbformat": 4,
 "nbformat_minor": 2
}
